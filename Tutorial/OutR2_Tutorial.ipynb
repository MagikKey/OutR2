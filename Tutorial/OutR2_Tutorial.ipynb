{
 "cells": [
  {
   "cell_type": "markdown",
   "id": "18556c7a",
   "metadata": {},
   "source": [
    "<br>\n",
    "<br>\n",
    "\n",
    "# `OutR2`: **Predictive Metrics in Psychological Research**\n",
    "\n",
    "Tutorial for estimating the prediction error with `OutR2` using the data from Klein et al. (2014): *Investigating Variation in Replicability A ''Many Labs'' Replication Project*, accessible here: <https://osf.io/wx7ck/>."
   ]
  },
  {
   "cell_type": "markdown",
   "id": "b7bf0b59",
   "metadata": {},
   "source": [
    "### **Installation**\n",
    "\n",
    "Using the `devtools` package, `OutR2` can be installed from its Github page:\n"
   ]
  },
  {
   "cell_type": "code",
   "execution_count": 1,
   "id": "7c410e34",
   "metadata": {},
   "outputs": [],
   "source": [
    "# devtools::install_github(\"MagikT/OutR2\")"
   ]
  },
  {
   "cell_type": "markdown",
   "id": "560c3468",
   "metadata": {},
   "source": [
    "Once `OutR2` has been installed. It is ready to be used."
   ]
  },
  {
   "cell_type": "markdown",
   "id": "5004c726",
   "metadata": {},
   "source": [
    "### **Estimating the prediction error**"
   ]
  },
  {
   "cell_type": "code",
   "execution_count": 2,
   "id": "a81fd89a",
   "metadata": {},
   "outputs": [],
   "source": [
    "# Load required packages \n",
    "library(OutR2) # Predictive metrics, OutR2_0.1.0\n",
    "library(haven) # Read .sav data, haven_2.5.2"
   ]
  },
  {
   "cell_type": "markdown",
   "id": "6dd2739b",
   "metadata": {},
   "source": [
    "**1. Load data set**"
   ]
  },
  {
   "cell_type": "code",
   "execution_count": 3,
   "id": "976c6615",
   "metadata": {},
   "outputs": [],
   "source": [
    "data <- as.data.frame(read_sav(\"CleanedDataset.sav\")) # Data from the Many Labs Replication Project"
   ]
  },
  {
   "cell_type": "markdown",
   "id": "28b016e3",
   "metadata": {},
   "source": [
    "**2.  Data pre-processing**  \n",
    "\n",
    "In the original study, Klein et al. (2014) analyzed 13 classical and contemporary effects documented in the psychological literature (13 + 3, considering the four anchoring effects). Of the 13, 11 can be approached through regression analysis. For this tutorial we will be using the data from the Anchoring Effect (Babies). \n",
    "\n",
    "The anchoring effect is a cognitive bias that highlights our propensity to give excessive relevance to the first information received (known as \"anchor\") when making a judgment in certain situations (see e.g., Jacowitz & Kahneman, 1995). In the experimental settings in which this phenomenon has been investigated, participants are asked to provide, for example, an estimate of the number of babies born in the U.S. each day after being exposed to unreasonably low (e.g., 100) or high (e.g., 50.000) anchor values."
   ]
  },
  {
   "cell_type": "code",
   "execution_count": 4,
   "id": "78562af8",
   "metadata": {},
   "outputs": [],
   "source": [
    "# 2. 1. Store in a new data frame the data from the Anchoring Effect - Babies\n",
    "# Effect\n",
    "effect <- \"Anchoring Babies\"\n",
    "\n",
    "# Experimental condition - group, Independent Variable IV\n",
    "group <- \"anch4group\"\n",
    "\n",
    "# Dependent Variable, DV\n",
    "DV <- \"anchoring4\"\n",
    "\n",
    "# Location of data collection (36 laboratories)\n",
    "location <- c(\"sample\", \"referrer\") \n",
    "\n",
    "# New data frame  \n",
    "data_babies <- data[, c(location, group, DV)] # Get Anchor Effect columns from the large data set containing all effects\n",
    "data_babies <- na.omit(data_babies) # Omit NA values\n",
    "data_babies <- data.frame(id = 1:nrow(data_babies), # Add ID\n",
    "                          location = data_babies[, 1],\n",
    "                          location_label = data_babies[, 2],\n",
    "                          group = data_babies[, 3],\n",
    "                          y = data_babies[, 4]) # Recode variable names"
   ]
  },
  {
   "cell_type": "markdown",
   "id": "e9cb8445",
   "metadata": {},
   "source": [
    "Emulating a real-world scenario, we will estimate the prediction error from a single sample (i.e., 1 of the 36 laboratories), using the data from the Ohio State University (OSU) laboratory."
   ]
  },
  {
   "cell_type": "code",
   "execution_count": 5,
   "id": "ae948062",
   "metadata": {},
   "outputs": [
    {
     "data": {
      "text/html": [
       "<table class=\"dataframe\">\n",
       "<caption>A data.frame: 6 × 5</caption>\n",
       "<thead>\n",
       "\t<tr><th></th><th scope=col>id</th><th scope=col>location</th><th scope=col>location_label</th><th scope=col>group</th><th scope=col>y</th></tr>\n",
       "\t<tr><th></th><th scope=col>&lt;int&gt;</th><th scope=col>&lt;dbl+lbl&gt;</th><th scope=col>&lt;chr&gt;</th><th scope=col>&lt;dbl+lbl&gt;</th><th scope=col>&lt;dbl&gt;</th></tr>\n",
       "</thead>\n",
       "<tbody>\n",
       "\t<tr><th scope=row>2386</th><td>2386</td><td>16</td><td>osu</td><td>1</td><td> 3000</td></tr>\n",
       "\t<tr><th scope=row>2387</th><td>2387</td><td>16</td><td>osu</td><td>0</td><td>  145</td></tr>\n",
       "\t<tr><th scope=row>2388</th><td>2388</td><td>16</td><td>osu</td><td>1</td><td> 2500</td></tr>\n",
       "\t<tr><th scope=row>2389</th><td>2389</td><td>16</td><td>osu</td><td>1</td><td>38560</td></tr>\n",
       "\t<tr><th scope=row>2390</th><td>2390</td><td>16</td><td>osu</td><td>0</td><td>  150</td></tr>\n",
       "\t<tr><th scope=row>2391</th><td>2391</td><td>16</td><td>osu</td><td>1</td><td>35000</td></tr>\n",
       "</tbody>\n",
       "</table>\n"
      ],
      "text/latex": [
       "A data.frame: 6 × 5\n",
       "\\begin{tabular}{r|lllll}\n",
       "  & id & location & location\\_label & group & y\\\\\n",
       "  & <int> & <dbl+lbl> & <chr> & <dbl+lbl> & <dbl>\\\\\n",
       "\\hline\n",
       "\t2386 & 2386 & 16 & osu & 1 &  3000\\\\\n",
       "\t2387 & 2387 & 16 & osu & 0 &   145\\\\\n",
       "\t2388 & 2388 & 16 & osu & 1 &  2500\\\\\n",
       "\t2389 & 2389 & 16 & osu & 1 & 38560\\\\\n",
       "\t2390 & 2390 & 16 & osu & 0 &   150\\\\\n",
       "\t2391 & 2391 & 16 & osu & 1 & 35000\\\\\n",
       "\\end{tabular}\n"
      ],
      "text/markdown": [
       "\n",
       "A data.frame: 6 × 5\n",
       "\n",
       "| <!--/--> | id &lt;int&gt; | location &lt;dbl+lbl&gt; | location_label &lt;chr&gt; | group &lt;dbl+lbl&gt; | y &lt;dbl&gt; |\n",
       "|---|---|---|---|---|---|\n",
       "| 2386 | 2386 | 16 | osu | 1 |  3000 |\n",
       "| 2387 | 2387 | 16 | osu | 0 |   145 |\n",
       "| 2388 | 2388 | 16 | osu | 1 |  2500 |\n",
       "| 2389 | 2389 | 16 | osu | 1 | 38560 |\n",
       "| 2390 | 2390 | 16 | osu | 0 |   150 |\n",
       "| 2391 | 2391 | 16 | osu | 1 | 35000 |\n",
       "\n"
      ],
      "text/plain": [
       "     id   location location_label group y    \n",
       "2386 2386 16       osu            1      3000\n",
       "2387 2387 16       osu            0       145\n",
       "2388 2388 16       osu            1      2500\n",
       "2389 2389 16       osu            1     38560\n",
       "2390 2390 16       osu            0       150\n",
       "2391 2391 16       osu            1     35000"
      ]
     },
     "metadata": {},
     "output_type": "display_data"
    }
   ],
   "source": [
    "# 2. 2. Get data from OSU laboratory\n",
    "data_babies <- data_babies[data_babies$location_label == \"osu\", ]\n",
    "\n",
    "# View data\n",
    "head(data_babies)"
   ]
  },
  {
   "cell_type": "markdown",
   "id": "852bae38",
   "metadata": {},
   "source": [
    "For analyzing the Anchoring Effect from a predictive approach, we fit the following linear model:\n",
    "\n",
    "$$\\hat{Y} = \\beta_0 + \\beta_1 \\cdot X_{i1}$$"
   ]
  },
  {
   "cell_type": "markdown",
   "id": "26db30b3",
   "metadata": {},
   "source": [
    "Where $\\beta_0$ represents the predicted (i.e., expected) response for potential, yet unobserved, participants belonging to the low anchor condition, and $\\beta_0 + \\beta_1$ represents the predicted response for the ones who will be exposed to the high anchor condition. Note that the possible values of the predictor variable, low and high anchor conditions, are coded as $X_1 = 0$ and $X_1 = 1$, respectively (see above the `group` column in `data_babies`). Then, the predicted response for the $i_{th}$ participant, exposed to the low anchor condition (i.e., when $X_{i1} = 0$) will be: $\\hat{Y_i} = \\beta_0 + \\beta_1 \\cdot 0 = \\beta_0$. That is, we expect those who will potentially be exposed to the low anchor condition to estimate a number of babies close to $\\beta_0$. Similarly, we predict that those who will be exposed to the high anchor condition will estimate a number of babies close to $\\hat{Y_i} = \\beta_0 + \\beta_1 \\cdot 1 = \\beta_0 + \\beta_1$."
   ]
  },
  {
   "cell_type": "markdown",
   "id": "24ebd63e",
   "metadata": {},
   "source": [
    "**3.  Fit Predictive Model**  \n",
    "\n",
    "We fit the model using the `glm` function from the `stats` package, part of R base."
   ]
  },
  {
   "cell_type": "code",
   "execution_count": 6,
   "id": "70df1eb8",
   "metadata": {},
   "outputs": [
    {
     "name": "stdout",
     "output_type": "stream",
     "text": [
      "Low anchor = 2571\n",
      "High anchor = 26292"
     ]
    }
   ],
   "source": [
    "# 3. 1. Fit predictive model\n",
    "fit <- glm(formula = y ~ group, data = data_babies)\n",
    "\n",
    "# 3. 2. Model predictions\n",
    "cat(sprintf(\"Low anchor = %.0f\\nHigh anchor = %.0f\", \n",
    "            fit$coefficients[1], \n",
    "            fit$coefficients[1] + fit$coefficients[2]))"
   ]
  },
  {
   "cell_type": "markdown",
   "id": "29531c58",
   "metadata": {},
   "source": [
    "The fitted model predicts that future (i.e., yet unobserved) participants exposed to the low and high anchor conditions will estimate a number of babies close to $2.571$ and $26.292$, respectively. To evaluate its predictive performance out-of-sample, we use `OutR2`."
   ]
  },
  {
   "cell_type": "markdown",
   "id": "3dabf115",
   "metadata": {},
   "source": [
    "**4. Predictive Performance Metrics**\n",
    "\n",
    "In its current version (`OutR2 0.1.0`), the main function `rsq_cv` estimates the prediction error of a fitted model in the $R^2$ and $MSE$ metrics (also $RMSE$). In this example we will estimate the prediction error by Cross-Validation (CV) in the $R^2$ and $RMSE$ metrics.\n",
    "\n",
    "`rsq_cv` takes as input:\n",
    "- `data` data set or sample where the model was fitted.\n",
    "- `k` number of folds or validation sets (`k = n` for Leave-One-Out CV).\n",
    "- `balanced` when working with categorical predictors and `k != n` (i.e., for K-fold CV), `balanced = TRUE` generates balanced folds.\n",
    "- `J` number of groups when working with categorical predictors (version `0.1.0` is set up for `J = 2`)."
   ]
  },
  {
   "cell_type": "code",
   "execution_count": 7,
   "id": "dcb09612",
   "metadata": {},
   "outputs": [],
   "source": [
    "# 4. 1. Predictive performance metrics\n",
    "n <- nrow(data_babies) # Sample size, n, for Leave-One-Out Cross-Validation\n",
    "predictive_metrics <- rsq_cv(data = data_babies, glmfit = fit, k = n) # Get prediction error estimation\n",
    "\n",
    "# 4. 1. 1\n",
    "Pe_R2 <- predictive_metrics$R2_Cv # Prediction error estimation by CV in R2 metric (i.e., out-of-sample R2)\n",
    "Pe_RMSE <- predictive_metrics$RMSE_Cv # Prediction error estimation by CV in RMSE metric (i.e., Root of the Mean Squared Error of Prediction)"
   ]
  },
  {
   "cell_type": "markdown",
   "id": "4cca88c0",
   "metadata": {},
   "source": [
    "`$R2_Cv` and `$RMSE_Cv` contain the prediction error estimated by CV in the $R^2$ and $RMSE$ metrics, respectively. In this example, we interpret the results as follows."
   ]
  },
  {
   "cell_type": "code",
   "execution_count": 8,
   "id": "1962e34b",
   "metadata": {},
   "outputs": [
    {
     "name": "stdout",
     "output_type": "stream",
     "text": [
      "Estimated prediction error by Leave-One-Out CV:\n",
      "R2 = 0.52\n",
      "RMSE = 11513"
     ]
    }
   ],
   "source": [
    "# 4. 2. Results\n",
    "cat(sprintf(\"Estimated prediction error by Leave-One-Out CV:\\nR2 = %.2f\\nRMSE = %.0f\",\n",
    "            Pe_R2, # R2 metric\n",
    "            Pe_RMSE)) # RMSE metric"
   ]
  },
  {
   "cell_type": "markdown",
   "id": "a0ddc58b",
   "metadata": {},
   "source": [
    "For the Anchoring Effect (Babies), the predictive performance of the fitted model was estimated by Leave-One-Out (LOO) CV. The LOO CV estimates that the model that included the experimental condition (i.e., low vs high anchor) as predictor deviates, on average, 11.513 babies from the observed responses in out-of-sample observations ($RMSE_{LOO} = 11.513$), accounting for 52 % of the observed variance in out-of-sample responses ($R{^2}_{LOO} = 0.52$).\n",
    "\n",
    "**References**\n",
    "\n",
    "- Jacowitz, K. E., & Kahneman, D. (1995). Measures of anchoring in estimation tasks. *Personality and Social Psychology Bulletin*, *21*(11), 1161-1166. <https://doi.org/10.1177/01461672952111004>.\n",
    "- Klein, R. A., Ratliff, K. A., Vianello, M., Adams Jr, R. B., Bahník, Š., Bernstein, M. J., ..., & Nosek, B. A. (2014). Investigating variation in replicability: A \"Many Labs\" Replication Project. *Social psychology*, *45*(3), 142-152. <https://doi.org/10.1027/1864-9335/a000178>."
   ]
  }
 ],
 "metadata": {
  "kernelspec": {
   "display_name": "R",
   "language": "R",
   "name": "ir"
  },
  "language_info": {
   "codemirror_mode": "r",
   "file_extension": ".r",
   "mimetype": "text/x-r-source",
   "name": "R",
   "pygments_lexer": "r",
   "version": "4.2.3"
  }
 },
 "nbformat": 4,
 "nbformat_minor": 5
}
